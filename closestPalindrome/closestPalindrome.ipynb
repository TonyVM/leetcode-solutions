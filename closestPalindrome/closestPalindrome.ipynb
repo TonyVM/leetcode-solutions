{
 "cells": [
  {
   "cell_type": "code",
   "execution_count": 193,
   "metadata": {},
   "outputs": [
    {
     "name": "stdout",
     "output_type": "stream",
     "text": [
      "Number: 121\n",
      "Distance between 121 and 111 is 10\n",
      "Distance between 121 and 131 is 10\n",
      "111\n",
      "Time: 0.00017380714416503906 secs\n"
     ]
    }
   ],
   "source": [
    "def closestPalindrome(n: str) -> str:\n",
    "    if int(n) <= 10:\n",
    "        return str(int(n) - 1)\n",
    "    if int(n) == 11:\n",
    "        return '9'\n",
    "        return \n",
    "    # if len(n) == 1:\n",
    "    #     return str(min(int(n) - 1, int(n) + 1))\n",
    "    up, down = False, False\n",
    "    valUp = 0\n",
    "    valDown = 0\n",
    "    for i in range(1, (int(n) // 2) + 1):\n",
    "        if str(int(n) - i) == str(int(n) - i)[::-1] and not down:\n",
    "            down = True\n",
    "            valDown = int(n) - i\n",
    "            \n",
    "        if str(int(n) + i) == str(int(n) + i)[::-1] and not up:\n",
    "            up = True\n",
    "            valUp = int(n) + i\n",
    "        \n",
    "        if up and down:\n",
    "            print(f'Distance between {n} and {valDown} is {abs(int(n) - valDown)}')\n",
    "            print(f'Distance between {n} and {valUp} is {abs(int(n) - valUp)}')\n",
    "            if int(n) - valDown == valUp - int(n):\n",
    "                return str(min(valDown, valUp))\n",
    "            return str(min(valDown, valUp, key=lambda x: abs(x - int(n))))\n",
    "        \n",
    "        if up:\n",
    "            return valUp\n",
    "        \n",
    "        if down:\n",
    "            return valDown\n",
    "    # if up or down:\n",
    "    #     return str(max(valDown, valUp, key=lambda x: x > 0))\n",
    "            \n",
    "\n",
    "import time   \n",
    "n = input(\"Enter a number: \")\n",
    "print(f'Number: {n}')\n",
    "inicio = time.time()\n",
    "print(closestPalindrome(n))\n",
    "fin = time.time()\n",
    "print(f'Time: {fin - inicio} secs')"
   ]
  },
  {
   "cell_type": "code",
   "execution_count": 192,
   "metadata": {},
   "outputs": [
    {
     "name": "stdout",
     "output_type": "stream",
     "text": [
      "Number: 121\n",
      "candidates before int conversion: {'121', '111', '99', '1001', '131'}\n",
      "candidates: {1001, 99, 131, 111}\n",
      "111\n",
      "Time: 0.0001678466796875 secs\n"
     ]
    }
   ],
   "source": [
    "def closestPalindrome(n: str) -> str:\n",
    "    if int(n) <= 10:\n",
    "        return str(int(n) - 1)\n",
    "    # if n == '1':\n",
    "    #     return '0'\n",
    "    if n == '11':\n",
    "        return '9'\n",
    "    if all(c == '9' for c in n) and len(n) > 1:\n",
    "        return str(int(n) + 2)\n",
    "    \n",
    "    length = len(n)\n",
    "    prefix = int(n[:(length + 1) // 2])\n",
    "    \n",
    "    # Generate possible palindrome candidates\n",
    "    candidates = set([\n",
    "        str(prefix - 1) + str(prefix - 1)[:length // 2][::-1],\n",
    "        str(prefix) + str(prefix)[:length // 2][::-1],\n",
    "        str(prefix + 1) + str(prefix + 1)[:length // 2][::-1],\n",
    "        \"9\" * (length - 1),  # For cases like 1000, include 999 as a candidate\n",
    "        \"1\" + \"0\" * (length - 1) + \"1\"  # For cases like 1000, include 1001 as a candidate\n",
    "    ])\n",
    "    print(f'candidates before int conversion: {candidates}')\n",
    "    # Convert candidates to integers and filter out the original number\n",
    "    candidates = {int(c) for c in candidates if c != n}\n",
    "    \n",
    "    # Find the closest palindrome\n",
    "    print(f'candidates: {candidates}')\n",
    "    \n",
    "    closest = min(sorted(candidates), key=lambda x: abs(x - int(n)))\n",
    "    \n",
    "    return str(closest)\n",
    "\n",
    "import time   \n",
    "n = input(\"Enter a number: \")\n",
    "print(f'Number: {n}')\n",
    "\n",
    "inicio = time.time()\n",
    "print(closestPalindrome(n))\n",
    "fin = time.time()\n",
    "print(f'Time: {fin - inicio} secs')"
   ]
  }
 ],
 "metadata": {
  "kernelspec": {
   "display_name": "Python 3",
   "language": "python",
   "name": "python3"
  },
  "language_info": {
   "codemirror_mode": {
    "name": "ipython",
    "version": 3
   },
   "file_extension": ".py",
   "mimetype": "text/x-python",
   "name": "python",
   "nbconvert_exporter": "python",
   "pygments_lexer": "ipython3",
   "version": "3.12.1"
  }
 },
 "nbformat": 4,
 "nbformat_minor": 2
}
