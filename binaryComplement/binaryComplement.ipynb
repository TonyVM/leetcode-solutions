{
 "cells": [
  {
   "cell_type": "code",
   "execution_count": 2,
   "metadata": {},
   "outputs": [
    {
     "name": "stdout",
     "output_type": "stream",
     "text": [
      "1\n",
      "1\n",
      "0\n",
      "6 en binario es 110\n",
      "el complemento de 6 es 001\n",
      "el complemento de 6 en decimal es 1\n"
     ]
    }
   ],
   "source": [
    "n1 = int(input('Introduzca un numero entero por favor\\n'))\n",
    "n1Bin = bin(n1)[2:]\n",
    "\n",
    "compl = ''\n",
    "for i in range(len(n1Bin)):\n",
    "    print(n1Bin[i])\n",
    "    if n1Bin[i] == '0':\n",
    "        compl += '1'\n",
    "    else:\n",
    "        compl += '0'\n",
    "print(f'{n1} en binario es {n1Bin}')\n",
    "print(f'el complemento de {n1} es {compl}')\n",
    "print(f'el complemento de {n1} en decimal es {int(compl, 2)}')"
   ]
  }
 ],
 "metadata": {
  "kernelspec": {
   "display_name": "Python 3",
   "language": "python",
   "name": "python3"
  },
  "language_info": {
   "codemirror_mode": {
    "name": "ipython",
    "version": 3
   },
   "file_extension": ".py",
   "mimetype": "text/x-python",
   "name": "python",
   "nbconvert_exporter": "python",
   "pygments_lexer": "ipython3",
   "version": "3.12.1"
  }
 },
 "nbformat": 4,
 "nbformat_minor": 2
}
